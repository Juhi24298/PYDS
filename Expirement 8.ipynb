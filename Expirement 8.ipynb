{
 "cells": [
  {
   "cell_type": "code",
   "execution_count": null,
   "metadata": {},
   "outputs": [],
   "source": [
    "from multiprocessing import Pool\n",
    "def f(x):\n",
    "    return x*x\n",
    "with Pool(5) as p:\n",
    "    print(p.map(f,[1,2,3]))"
   ]
  },
  {
   "cell_type": "code",
   "execution_count": null,
   "metadata": {},
   "outputs": [],
   "source": [
    "import multiprocessing\n",
    "multiprocessing.cpu_count()"
   ]
  },
  {
   "cell_type": "code",
   "execution_count": null,
   "metadata": {},
   "outputs": [],
   "source": [
    "import multiprocessing\n",
    "from multiprocessing import Process\n",
    "def testing():\n",
    "      print(\"Works\")\n",
    "def square(n):\n",
    "       print(\"The number squares to \",n**2)\n",
    "def cube(n):\n",
    "       print(\"The number cubes to \",n**3)\n",
    "if __name__==\"__main__\":\n",
    "   p1=Process(target=square,args=(7,))\n",
    "   p2=Process(target=cube,args=(7,))\n",
    "   p3=Process(target=testing)\n",
    "   p1.start()\n",
    "   p2.start()\n",
    "   p3.start()\n",
    "   p1.join()\n",
    "   p2.join()\n",
    "   p3.join()\n",
    "   print(\"We're done\")\n"
   ]
  },
  {
   "cell_type": "code",
   "execution_count": null,
   "metadata": {},
   "outputs": [],
   "source": [
    "import multiprocessing\n",
    "from multiprocessing import Process\n",
    "import os\n",
    "def child1():\n",
    "     print(\"Child 1\",os.getpid())\n",
    "def child2():\n",
    "        print(\"Child 2\",os.getpid())\n",
    "if __name__==\"__main__\":\n",
    "   print(\"Parent ID\",os.getpid())\n",
    "   p1=Process(target=child1)\n",
    "   p2=Process(target=child2)\n",
    "   p1.start()\n",
    "   p2.start()\n",
    "   p1.join()\n",
    "   alive='Yes' if p1.is_alive() else 'No'\n",
    "   print(\"Is p1 alive?\",alive)\n",
    "   alive='Yes' if p2.is_alive() else 'No'\n",
    "   print(\"Is p2 alive?\",alive)\n",
    "   p2.join()\n",
    "   print(\"We're done\")"
   ]
  },
  {
   "cell_type": "code",
   "execution_count": null,
   "metadata": {},
   "outputs": [],
   "source": [
    "import multiprocessing\n",
    "from multiprocessing import Process, current_process\n",
    "import os\n",
    "def child1():\n",
    "     print(current_process().name)\n",
    "def child2():\n",
    "         print(current_process().name)\n",
    "if __name__==\"__main__\":\n",
    "   print(\"Parent ID\",os.getpid())\n",
    "   p1=Process(target=child1,name='Child 1')\n",
    "   p2=Process(target=child2,name='Child 2')\n",
    "   p1.start()\n",
    "   p2.start()\n",
    "   p1.join()\n",
    "   p2.join()\n",
    "   print(\"We're done\")"
   ]
  },
  {
   "cell_type": "code",
   "execution_count": null,
   "metadata": {},
   "outputs": [],
   "source": [
    "from multiprocessing import Process, Lock\n",
    "lock=Lock()\n",
    "def printer(item):\n",
    "  lock.acquire()\n",
    "  try:\n",
    "      print(item)\n",
    "  finally:\n",
    "      lock.release()\n",
    "if __name__==\"__main__\":\n",
    "  items=['nacho','salsa',7]\n",
    "  for item in items:\n",
    "     p=Process(target=printer,args=(item,))\n",
    "     p.start()"
   ]
  },
  {
   "cell_type": "code",
   "execution_count": null,
   "metadata": {},
   "outputs": [],
   "source": [
    "from multiprocessing import Pool\n",
    "def double(n):\n",
    "   return n*2\n",
    "if __name__=='__main__':\n",
    "   nums=[2,3,6]\n",
    "   pool=Pool(processes=3)\n",
    "   print(pool.map(double,nums))"
   ]
  },
  {
   "cell_type": "code",
   "execution_count": null,
   "metadata": {},
   "outputs": [],
   "source": [
    "from multiprocessing import Pool\n",
    "def double(n):\n",
    "   return n*2\n",
    "if __name__=='__main__':\n",
    "   pool=Pool(processes=3)\n",
    "   result=pool.apply_async(double,(7,))\n",
    "   print(result.get(timeout=1))"
   ]
  },
  {
   "cell_type": "code",
   "execution_count": null,
   "metadata": {},
   "outputs": [],
   "source": []
  }
 ],
 "metadata": {
  "kernelspec": {
   "display_name": "Python 3",
   "language": "python",
   "name": "python3"
  },
  "language_info": {
   "codemirror_mode": {
    "name": "ipython",
    "version": 3
   },
   "file_extension": ".py",
   "mimetype": "text/x-python",
   "name": "python",
   "nbconvert_exporter": "python",
   "pygments_lexer": "ipython3",
   "version": "3.7.4"
  }
 },
 "nbformat": 4,
 "nbformat_minor": 2
}
